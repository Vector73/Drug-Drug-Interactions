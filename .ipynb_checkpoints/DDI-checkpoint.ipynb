{
 "cells": [
  {
   "cell_type": "code",
   "execution_count": 2,
   "id": "16b400c1-1f46-4f18-aa5a-8953c161b237",
   "metadata": {},
   "outputs": [],
   "source": [
    "import os\n",
    "import tarfile\n",
    "import urllib.request\n",
    "import numpy as np\n",
    "import pandas as pd"
   ]
  },
  {
   "cell_type": "code",
   "execution_count": 5,
   "id": "fa8a2d83-11c0-40cc-aba9-33a6c882e82f",
   "metadata": {},
   "outputs": [
    {
     "data": {
      "text/plain": [
       "'NIVEOLI MDI, LEVOLIN INHALER MDI, MONTAIR FX TAB'"
      ]
     },
     "execution_count": 5,
     "metadata": {},
     "output_type": "execute_result"
    }
   ],
   "source": [
    "drugs = pd.read_csv(\"drugs.csv\")\n",
    "medicines = drugs[\"medicines\"]\n",
    "sample_medicine = medicines[0]\n",
    "sample_medicine"
   ]
  },
  {
   "cell_type": "code",
   "execution_count": 6,
   "id": "60cdf7e4-30f7-49c8-9a5d-1af92662045f",
   "metadata": {},
   "outputs": [],
   "source": [
    "def get_medicines_from_string(medicines):\n",
    "    return medicines.split(\", \")"
   ]
  },
  {
   "cell_type": "code",
   "execution_count": 7,
   "id": "5b0e5dfd-4010-423b-bb33-e2223a9d7b55",
   "metadata": {},
   "outputs": [
    {
     "data": {
      "text/plain": [
       "['NIVEOLI MDI', 'LEVOLIN INHALER MDI', 'MONTAIR FX TAB']"
      ]
     },
     "execution_count": 7,
     "metadata": {},
     "output_type": "execute_result"
    }
   ],
   "source": [
    "get_medicines_from_string(sample_medicine)"
   ]
  },
  {
   "cell_type": "code",
   "execution_count": 60,
   "id": "b6464d35-b0cf-4c6d-b487-69257592af55",
   "metadata": {},
   "outputs": [],
   "source": [
    "import urllib.parse\n",
    "import urllib.request\n",
    "import json\n",
    "\n",
    "def normalize_drug(input_name):\n",
    "    \"\"\"\n",
    "    Normalize any drug input (brand name, generic, or full name)\n",
    "    to a DRKG-compatible node (Compound::CHEMBLxxxx or Compound::DBxxxx)\n",
    "    \"\"\"\n",
    "    if not input_name:\n",
    "        return None\n",
    "\n",
    "    # Use the first word as heuristic\n",
    "    query_name = input_name.split()[0].strip()\n",
    "    print(f\"Normalizing '{input_name}' using '{query_name}'\")\n",
    "\n",
    "    base_url = \"https://mychem.info/v1/query\"\n",
    "    params = {\n",
    "        \"q\": query_name,\n",
    "        \"fields\": \"drugbank.id,chembl.molecule_chembl_id,synonyms\",\n",
    "        \"size\": 1\n",
    "    }\n",
    "    url = f\"{base_url}?{urllib.parse.urlencode(params)}\"\n",
    "\n",
    "    try:\n",
    "        with urllib.request.urlopen(url) as response:\n",
    "            data = json.loads(response.read().decode())\n",
    "    except Exception as e:\n",
    "        print(f\"Error fetching '{query_name}': {e}\")\n",
    "        return None\n",
    "\n",
    "    hits = data.get(\"hits\", [])\n",
    "    if not hits:\n",
    "        print(f\"No hits found for '{query_name}'\")\n",
    "        return None\n",
    "\n",
    "    hit = hits[0]\n",
    "    chembl = hit.get(\"chembl\", {}).get(\"molecule_chembl_id\")\n",
    "    drugbank = hit.get(\"drugbank\", {}).get(\"id\")\n",
    "    synonyms = hit.get(\"synonyms\", [])\n",
    "\n",
    "    # Optional: check if the input_name matches any synonyms (case-insensitive)\n",
    "    if input_name.lower() in [s.lower() for s in synonyms]:\n",
    "        print(f\"Input '{input_name}' matches synonyms: {synonyms}\")\n",
    "\n",
    "    if chembl:\n",
    "        print(chembl)\n",
    "        return f\"Compound::{chembl}\"\n",
    "    elif drugbank:\n",
    "        print(drugbank)\n",
    "        return f\"Compound::{drugbank}\"\n",
    "    else:\n",
    "        print(f\"No ChemBL or DrugBank ID found for '{query_name}'\")\n",
    "        return None\n"
   ]
  },
  {
   "cell_type": "code",
   "execution_count": 62,
   "id": "31e84458-17b7-4137-9525-005e491ac011",
   "metadata": {},
   "outputs": [
    {
     "name": "stdout",
     "output_type": "stream",
     "text": [
      "Normalizing 'CEPODEM XP 325MG TAB' using 'CEPODEM'\n",
      "No hits found for 'CEPODEM'\n",
      "Normalizing 'DOLO TAB 650MG' using 'DOLO'\n",
      "No ChemBL or DrugBank ID found for 'DOLO'\n",
      "Normalizing 'MONTAIR FX TAB' using 'MONTAIR'\n",
      "CHEMBL1200681\n",
      "Normalizing 'BETADINE GARGLE' using 'BETADINE'\n",
      "No ChemBL or DrugBank ID found for 'BETADINE'\n"
     ]
    },
    {
     "data": {
      "text/plain": [
       "[None, None, 'Compound::CHEMBL1200681', None]"
      ]
     },
     "execution_count": 62,
     "metadata": {},
     "output_type": "execute_result"
    }
   ],
   "source": [
    "normalized_drugs = [normalize_drug(drug) for drug in get_medicines_from_string(medicines[2])]\n",
    "normalized_drugs"
   ]
  },
  {
   "cell_type": "code",
   "execution_count": 18,
   "id": "8cbd7c51-4258-4e5b-899d-6f5659f65d46",
   "metadata": {},
   "outputs": [
    {
     "name": "stdout",
     "output_type": "stream",
     "text": [
      "Collecting neo4j\n",
      "  Downloading neo4j-6.0.2-py3-none-any.whl.metadata (5.2 kB)\n",
      "Requirement already satisfied: pytz in c:\\users\\vshmk\\appdata\\local\\packages\\pythonsoftwarefoundation.python.3.11_qbz5n2kfra8p0\\localcache\\local-packages\\python311\\site-packages (from neo4j) (2024.1)\n",
      "Downloading neo4j-6.0.2-py3-none-any.whl (325 kB)\n",
      "Installing collected packages: neo4j\n",
      "Successfully installed neo4j-6.0.2\n"
     ]
    },
    {
     "name": "stderr",
     "output_type": "stream",
     "text": [
      "\n",
      "[notice] A new release of pip is available: 25.0 -> 25.2\n",
      "[notice] To update, run: C:\\Users\\vshmk\\AppData\\Local\\Microsoft\\WindowsApps\\PythonSoftwareFoundation.Python.3.11_qbz5n2kfra8p0\\python.exe -m pip install --upgrade pip\n"
     ]
    }
   ],
   "source": [
    "!pip install neo4j"
   ]
  },
  {
   "cell_type": "code",
   "execution_count": 37,
   "id": "deb19752-0679-4a76-83c4-9d43014775be",
   "metadata": {},
   "outputs": [],
   "source": [
    "from neo4j import GraphDatabase\n",
    "from collections import defaultdict\n",
    "\n",
    "# ---------- CONFIG ----------\n",
    "NEO4J_URI = \"bolt://localhost:7687\"\n",
    "NEO4J_USER = \"neo4j\"\n",
    "NEO4J_PASSWORD = \"12345678\"  # replace with your password\n",
    "MAX_NEIGHBORS = 200\n",
    "\n",
    "# Relation patterns\n",
    "DDI_REL = \"DRUGBANK::ddi-interactor-in::Compound:Compound\"\n",
    "SE_SIDE_REL_PATTERNS = [\n",
    "    \"Hetionet::CcSE::Compound:Side Effect\",\n",
    "    \"GNBR::Sa::Compound:Disease\",\n",
    "]\n",
    "\n",
    "# ---------- FUNCTION TO QUERY NEO4J ----------\n",
    "def query_drug_interactions_neo4j(drug_nodes, max_neighbors=200):\n",
    "    \"\"\"\n",
    "    Input: list of normalized DRKG node IDs (Compound::CHEMBLxxxx)\n",
    "    Output: dictionary {drug_node: list of textual interaction/side-effect facts}\n",
    "    \"\"\"\n",
    "    driver = GraphDatabase.driver(NEO4J_URI, auth=(NEO4J_USER, NEO4J_PASSWORD))\n",
    "    results = {}\n",
    "\n",
    "    with driver.session() as session:\n",
    "        for seed in drug_nodes:\n",
    "            try:\n",
    "                print(f\"\\nQuerying 1-hop neighbors for: {seed} ...\")\n",
    "                # 1-hop neighbors\n",
    "                query = \"\"\"\n",
    "                MATCH (seed {Entity: $seed})-[r]-(neighbor)\n",
    "                RETURN seed.Entity AS seed, r.Relationship AS relation, neighbor.Entity AS neighbor\n",
    "                LIMIT $max_neighbors\n",
    "                \"\"\"\n",
    "                records = session.run(query, seed=seed, max_neighbors=max_neighbors)\n",
    "                \n",
    "                chunks = []\n",
    "                neighbors = set()\n",
    "                found = False\n",
    "                for rec in records:\n",
    "                    found = True\n",
    "                    relation = rec[\"relation\"]\n",
    "                    neighbor = rec[\"neighbor\"]\n",
    "                    neighbors.add(neighbor)\n",
    "                    chunks.append(f\"{seed} -- {relation} --> {neighbor}\")\n",
    "                \n",
    "                if not found:\n",
    "                    print(f\"WARNING: No neighbors found for {seed} in the database.\")\n",
    "                    results[seed] = []\n",
    "                    continue\n",
    "\n",
    "                # DDIs and Side-Effects for neighbors\n",
    "                for n in neighbors:\n",
    "                    # DDIs\n",
    "                    try:\n",
    "                        ddi_query = \"\"\"\n",
    "                        MATCH (n {Entity: $n})-[r]-(partner)\n",
    "                        WHERE r.Relationship = $ddi_rel\n",
    "                        RETURN n.Entity AS neighbor, r.Relationship AS relation, partner.Entity AS partner\n",
    "                        \"\"\"\n",
    "                        ddi_records = session.run(ddi_query, n=n, ddi_rel=DDI_REL)\n",
    "                        for rec in ddi_records:\n",
    "                            chunks.append(f\"{rec['neighbor']} -- {rec['relation']} --> {rec['partner']}\")\n",
    "                    except Exception as e:\n",
    "                        print(f\"Error querying DDIs for {n}: {e}\")\n",
    "\n",
    "                    # Side-effects\n",
    "                    try:\n",
    "                        se_query = f\"\"\"\n",
    "                        MATCH (n {{Entity: $n}})-[r]-(se)\n",
    "                        WHERE {' OR '.join([f\"r.Relationship=$pat{i}\" for i in range(len(SE_SIDE_REL_PATTERNS))])}\n",
    "                        RETURN n.Entity AS neighbor, r.Relationship AS relation, se.Entity AS se_entity\n",
    "                        \"\"\"\n",
    "                        se_params = {\"n\": n}\n",
    "                        for i, pat in enumerate(SE_SIDE_REL_PATTERNS):\n",
    "                            se_params[f\"pat{i}\"] = pat\n",
    "                        se_records = session.run(se_query, **se_params)\n",
    "                        for rec in se_records:\n",
    "                            chunks.append(f\"{rec['neighbor']} -- {rec['relation']} --> {rec['se_entity']}\")\n",
    "                    except Exception as e:\n",
    "                        print(f\"Error querying side-effects for {n}: {e}\")\n",
    "\n",
    "                results[seed] = list(dict.fromkeys(chunks))  # deduplicate\n",
    "                print(f\"Found {len(results[seed])} facts for {seed}.\")\n",
    "\n",
    "            except Exception as e:\n",
    "                print(f\"ERROR: Failed to query {seed}: {e}\")\n",
    "                results[seed] = []\n",
    "\n",
    "    driver.close()\n",
    "    return results"
   ]
  },
  {
   "cell_type": "code",
   "execution_count": 55,
   "id": "9b324042-5e3b-42be-8b84-81fa3466f0a6",
   "metadata": {},
   "outputs": [
    {
     "name": "stdout",
     "output_type": "stream",
     "text": [
      "ALLEGRA\n",
      "AMBROLITE\n",
      "AZITHRAL\n",
      "LOOZ\n",
      "PEGURA\n",
      "ZINCOVIT\n",
      "OROFER\n",
      "MONTAIR\n",
      "LEVOSALBUTAMOL\n"
     ]
    },
    {
     "data": {
      "text/plain": [
       "[None,\n",
       " None,\n",
       " None,\n",
       " None,\n",
       " None,\n",
       " None,\n",
       " None,\n",
       " 'Compound::CHEMBL1200681',\n",
       " 'Compound::CHEMBL1002']"
      ]
     },
     "execution_count": 55,
     "metadata": {},
     "output_type": "execute_result"
    }
   ],
   "source": [
    "normalized_drugs = [normalize_drug(drug) for drug in get_medicines_from_string(medicines[3])]\n",
    "normalized_drugs"
   ]
  },
  {
   "cell_type": "code",
   "execution_count": 56,
   "id": "1b1d1b91-5a23-4d02-8128-213b67bedb34",
   "metadata": {},
   "outputs": [
    {
     "name": "stdout",
     "output_type": "stream",
     "text": [
      "\n",
      "Querying 1-hop neighbors for: None ...\n",
      "WARNING: No neighbors found for None in the database.\n",
      "\n",
      "Querying 1-hop neighbors for: None ...\n",
      "WARNING: No neighbors found for None in the database.\n",
      "\n",
      "Querying 1-hop neighbors for: None ...\n",
      "WARNING: No neighbors found for None in the database.\n",
      "\n",
      "Querying 1-hop neighbors for: None ...\n",
      "WARNING: No neighbors found for None in the database.\n",
      "\n",
      "Querying 1-hop neighbors for: None ...\n",
      "WARNING: No neighbors found for None in the database.\n",
      "\n",
      "Querying 1-hop neighbors for: None ...\n",
      "WARNING: No neighbors found for None in the database.\n",
      "\n",
      "Querying 1-hop neighbors for: None ...\n",
      "WARNING: No neighbors found for None in the database.\n",
      "\n",
      "Querying 1-hop neighbors for: Compound::CHEMBL1200681 ...\n",
      "Found 1 facts for Compound::CHEMBL1200681.\n",
      "\n",
      "Querying 1-hop neighbors for: Compound::CHEMBL1002 ...\n",
      "WARNING: No neighbors found for Compound::CHEMBL1002 in the database.\n",
      "\n",
      "=== Drug: None ===\n",
      "Found 0 interaction/side-effect facts\n",
      "\n",
      "=== Drug: Compound::CHEMBL1200681 ===\n",
      "Found 1 interaction/side-effect facts\n",
      "- Compound::CHEMBL1200681 -- DGIDB::ANTAGONIST::Gene:Compound --> Gene::10800\n",
      "\n",
      "=== Drug: Compound::CHEMBL1002 ===\n",
      "Found 0 interaction/side-effect facts\n"
     ]
    }
   ],
   "source": [
    "interaction_results = query_drug_interactions_neo4j(normalized_drugs)\n",
    "\n",
    "for drug, facts in interaction_results.items():\n",
    "    print(f\"\\n=== Drug: {drug} ===\")\n",
    "    print(f\"Found {len(facts)} interaction/side-effect facts\")\n",
    "    for f in facts[:10]:  # print first 10 for brevity\n",
    "        print(\"-\", f)"
   ]
  },
  {
   "cell_type": "code",
   "execution_count": null,
   "id": "fbaace85-4063-4d4d-99d9-2a66119a9170",
   "metadata": {},
   "outputs": [],
   "source": []
  }
 ],
 "metadata": {
  "kernelspec": {
   "display_name": "Python 3 (ipykernel)",
   "language": "python",
   "name": "python3"
  },
  "language_info": {
   "codemirror_mode": {
    "name": "ipython",
    "version": 3
   },
   "file_extension": ".py",
   "mimetype": "text/x-python",
   "name": "python",
   "nbconvert_exporter": "python",
   "pygments_lexer": "ipython3",
   "version": "3.11.9"
  }
 },
 "nbformat": 4,
 "nbformat_minor": 5
}
