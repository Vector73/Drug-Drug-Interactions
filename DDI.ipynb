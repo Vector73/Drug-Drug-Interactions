{
 "cells": [
  {
   "cell_type": "code",
   "execution_count": 1,
   "id": "16b400c1-1f46-4f18-aa5a-8953c161b237",
   "metadata": {},
   "outputs": [],
   "source": [
    "import os\n",
    "import tarfile\n",
    "import urllib.request\n",
    "import numpy as np\n",
    "import pandas as pd"
   ]
  },
  {
   "cell_type": "code",
   "execution_count": 22,
   "id": "dc610632-fdb8-4a80-b544-a09bc2388e6b",
   "metadata": {},
   "outputs": [
    {
     "name": "stdout",
     "output_type": "stream",
     "text": [
      "Note: you may need to restart the kernel to use updated packages.\n"
     ]
    },
    {
     "name": "stderr",
     "output_type": "stream",
     "text": [
      "\n",
      "[notice] A new release of pip is available: 25.0 -> 25.2\n",
      "[notice] To update, run: C:\\Users\\vshmk\\AppData\\Local\\Microsoft\\WindowsApps\\PythonSoftwareFoundation.Python.3.11_qbz5n2kfra8p0\\python.exe -m pip install --upgrade pip\n"
     ]
    }
   ],
   "source": [
    "pip install -q -U google-genai"
   ]
  },
  {
   "cell_type": "code",
   "execution_count": 23,
   "id": "fa8a2d83-11c0-40cc-aba9-33a6c882e82f",
   "metadata": {},
   "outputs": [
    {
     "data": {
      "text/plain": [
       "'NIVEOLI MDI, LEVOLIN INHALER MDI, MONTAIR FX TAB'"
      ]
     },
     "execution_count": 23,
     "metadata": {},
     "output_type": "execute_result"
    }
   ],
   "source": [
    "drugs = pd.read_csv(\"drugs.csv\")\n",
    "medicines = drugs[\"medicines\"]\n",
    "sample_medicine = medicines[0]\n",
    "sample_medicine"
   ]
  },
  {
   "cell_type": "code",
   "execution_count": 24,
   "id": "60cdf7e4-30f7-49c8-9a5d-1af92662045f",
   "metadata": {},
   "outputs": [],
   "source": [
    "def get_medicines_from_string(medicines):\n",
    "    return medicines.split(\", \")"
   ]
  },
  {
   "cell_type": "code",
   "execution_count": 40,
   "id": "5b0e5dfd-4010-423b-bb33-e2223a9d7b55",
   "metadata": {},
   "outputs": [
    {
     "data": {
      "text/plain": [
       "['NIVEOLI MDI', 'LEVOLIN INHALER MDI', 'MONTAIR FX TAB']"
      ]
     },
     "execution_count": 40,
     "metadata": {},
     "output_type": "execute_result"
    }
   ],
   "source": [
    "get_medicines_from_string(sample_medicine)"
   ]
  },
  {
   "cell_type": "code",
   "execution_count": 41,
   "id": "85382376-3691-4428-a15c-bd32ddf70e8d",
   "metadata": {},
   "outputs": [
    {
     "name": "stdout",
     "output_type": "stream",
     "text": [
      "Collecting langchain\n",
      "  Downloading langchain-0.3.27-py3-none-any.whl.metadata (7.8 kB)\n",
      "Collecting langchain-google-genai\n",
      "  Downloading langchain_google_genai-2.1.12-py3-none-any.whl.metadata (7.1 kB)\n",
      "Collecting langchain-community\n",
      "  Downloading langchain_community-0.3.31-py3-none-any.whl.metadata (3.0 kB)\n",
      "Collecting duckduckgo-search\n",
      "  Downloading duckduckgo_search-8.1.1-py3-none-any.whl.metadata (16 kB)\n",
      "Collecting langchain-core<1.0.0,>=0.3.72 (from langchain)\n",
      "  Downloading langchain_core-0.3.79-py3-none-any.whl.metadata (3.2 kB)\n",
      "Collecting langchain-text-splitters<1.0.0,>=0.3.9 (from langchain)\n",
      "  Downloading langchain_text_splitters-0.3.11-py3-none-any.whl.metadata (1.8 kB)\n",
      "Collecting langsmith>=0.1.17 (from langchain)\n",
      "  Downloading langsmith-0.4.34-py3-none-any.whl.metadata (14 kB)\n",
      "Requirement already satisfied: pydantic<3.0.0,>=2.7.4 in c:\\users\\vshmk\\appdata\\local\\packages\\pythonsoftwarefoundation.python.3.11_qbz5n2kfra8p0\\localcache\\local-packages\\python311\\site-packages (from langchain) (2.10.6)\n",
      "Requirement already satisfied: SQLAlchemy<3,>=1.4 in c:\\users\\vshmk\\appdata\\local\\packages\\pythonsoftwarefoundation.python.3.11_qbz5n2kfra8p0\\localcache\\local-packages\\python311\\site-packages (from langchain) (2.0.27)\n",
      "Requirement already satisfied: requests<3,>=2 in c:\\users\\vshmk\\appdata\\local\\packages\\pythonsoftwarefoundation.python.3.11_qbz5n2kfra8p0\\localcache\\local-packages\\python311\\site-packages (from langchain) (2.31.0)\n",
      "Requirement already satisfied: PyYAML>=5.3 in c:\\users\\vshmk\\appdata\\local\\packages\\pythonsoftwarefoundation.python.3.11_qbz5n2kfra8p0\\localcache\\local-packages\\python311\\site-packages (from langchain) (6.0.1)\n",
      "Collecting google-ai-generativelanguage<1,>=0.7 (from langchain-google-genai)\n",
      "  Downloading google_ai_generativelanguage-0.7.0-py3-none-any.whl.metadata (10 kB)\n",
      "Collecting filetype<2,>=1.2 (from langchain-google-genai)\n",
      "  Downloading filetype-1.2.0-py2.py3-none-any.whl.metadata (6.5 kB)\n",
      "Collecting requests<3,>=2 (from langchain)\n",
      "  Downloading requests-2.32.5-py3-none-any.whl.metadata (4.9 kB)\n",
      "Requirement already satisfied: aiohttp<4.0.0,>=3.8.3 in c:\\users\\vshmk\\appdata\\local\\packages\\pythonsoftwarefoundation.python.3.11_qbz5n2kfra8p0\\localcache\\local-packages\\python311\\site-packages (from langchain-community) (3.11.12)\n",
      "Requirement already satisfied: tenacity!=8.4.0,<10.0.0,>=8.1.0 in c:\\users\\vshmk\\appdata\\local\\packages\\pythonsoftwarefoundation.python.3.11_qbz5n2kfra8p0\\localcache\\local-packages\\python311\\site-packages (from langchain-community) (9.1.2)\n",
      "Collecting dataclasses-json<0.7.0,>=0.6.7 (from langchain-community)\n",
      "  Downloading dataclasses_json-0.6.7-py3-none-any.whl.metadata (25 kB)\n",
      "Collecting pydantic-settings<3.0.0,>=2.10.1 (from langchain-community)\n",
      "  Downloading pydantic_settings-2.11.0-py3-none-any.whl.metadata (3.4 kB)\n",
      "Collecting httpx-sse<1.0.0,>=0.4.0 (from langchain-community)\n",
      "  Downloading httpx_sse-0.4.3-py3-none-any.whl.metadata (9.7 kB)\n",
      "Requirement already satisfied: numpy>=1.26.2 in c:\\users\\vshmk\\appdata\\local\\packages\\pythonsoftwarefoundation.python.3.11_qbz5n2kfra8p0\\localcache\\local-packages\\python311\\site-packages (from langchain-community) (1.26.4)\n",
      "Collecting click>=8.1.8 (from duckduckgo-search)\n",
      "  Downloading click-8.3.0-py3-none-any.whl.metadata (2.6 kB)\n",
      "Collecting primp>=0.15.0 (from duckduckgo-search)\n",
      "  Downloading primp-0.15.0-cp38-abi3-win_amd64.whl.metadata (13 kB)\n",
      "Requirement already satisfied: lxml>=5.3.0 in c:\\users\\vshmk\\appdata\\local\\packages\\pythonsoftwarefoundation.python.3.11_qbz5n2kfra8p0\\localcache\\local-packages\\python311\\site-packages (from duckduckgo-search) (5.3.0)\n",
      "Requirement already satisfied: aiohappyeyeballs>=2.3.0 in c:\\users\\vshmk\\appdata\\local\\packages\\pythonsoftwarefoundation.python.3.11_qbz5n2kfra8p0\\localcache\\local-packages\\python311\\site-packages (from aiohttp<4.0.0,>=3.8.3->langchain-community) (2.4.6)\n",
      "Requirement already satisfied: aiosignal>=1.1.2 in c:\\users\\vshmk\\appdata\\local\\packages\\pythonsoftwarefoundation.python.3.11_qbz5n2kfra8p0\\localcache\\local-packages\\python311\\site-packages (from aiohttp<4.0.0,>=3.8.3->langchain-community) (1.3.2)\n",
      "Requirement already satisfied: attrs>=17.3.0 in c:\\users\\vshmk\\appdata\\local\\packages\\pythonsoftwarefoundation.python.3.11_qbz5n2kfra8p0\\localcache\\local-packages\\python311\\site-packages (from aiohttp<4.0.0,>=3.8.3->langchain-community) (23.2.0)\n",
      "Requirement already satisfied: frozenlist>=1.1.1 in c:\\users\\vshmk\\appdata\\local\\packages\\pythonsoftwarefoundation.python.3.11_qbz5n2kfra8p0\\localcache\\local-packages\\python311\\site-packages (from aiohttp<4.0.0,>=3.8.3->langchain-community) (1.5.0)\n",
      "Requirement already satisfied: multidict<7.0,>=4.5 in c:\\users\\vshmk\\appdata\\local\\packages\\pythonsoftwarefoundation.python.3.11_qbz5n2kfra8p0\\localcache\\local-packages\\python311\\site-packages (from aiohttp<4.0.0,>=3.8.3->langchain-community) (6.1.0)\n",
      "Requirement already satisfied: propcache>=0.2.0 in c:\\users\\vshmk\\appdata\\local\\packages\\pythonsoftwarefoundation.python.3.11_qbz5n2kfra8p0\\localcache\\local-packages\\python311\\site-packages (from aiohttp<4.0.0,>=3.8.3->langchain-community) (0.2.1)\n",
      "Requirement already satisfied: yarl<2.0,>=1.17.0 in c:\\users\\vshmk\\appdata\\local\\packages\\pythonsoftwarefoundation.python.3.11_qbz5n2kfra8p0\\localcache\\local-packages\\python311\\site-packages (from aiohttp<4.0.0,>=3.8.3->langchain-community) (1.18.3)\n",
      "Requirement already satisfied: colorama in c:\\users\\vshmk\\appdata\\local\\packages\\pythonsoftwarefoundation.python.3.11_qbz5n2kfra8p0\\localcache\\local-packages\\python311\\site-packages (from click>=8.1.8->duckduckgo-search) (0.4.6)\n",
      "Collecting marshmallow<4.0.0,>=3.18.0 (from dataclasses-json<0.7.0,>=0.6.7->langchain-community)\n",
      "  Downloading marshmallow-3.26.1-py3-none-any.whl.metadata (7.3 kB)\n",
      "Collecting typing-inspect<1,>=0.4.0 (from dataclasses-json<0.7.0,>=0.6.7->langchain-community)\n",
      "  Downloading typing_inspect-0.9.0-py3-none-any.whl.metadata (1.5 kB)\n",
      "Requirement already satisfied: google-api-core!=2.0.*,!=2.1.*,!=2.10.*,!=2.2.*,!=2.3.*,!=2.4.*,!=2.5.*,!=2.6.*,!=2.7.*,!=2.8.*,!=2.9.*,<3.0.0,>=1.34.1 in c:\\users\\vshmk\\appdata\\local\\packages\\pythonsoftwarefoundation.python.3.11_qbz5n2kfra8p0\\localcache\\local-packages\\python311\\site-packages (from google-api-core[grpc]!=2.0.*,!=2.1.*,!=2.10.*,!=2.2.*,!=2.3.*,!=2.4.*,!=2.5.*,!=2.6.*,!=2.7.*,!=2.8.*,!=2.9.*,<3.0.0,>=1.34.1->google-ai-generativelanguage<1,>=0.7->langchain-google-genai) (2.17.1)\n",
      "Requirement already satisfied: google-auth!=2.24.0,!=2.25.0,<3.0.0,>=2.14.1 in c:\\users\\vshmk\\appdata\\local\\packages\\pythonsoftwarefoundation.python.3.11_qbz5n2kfra8p0\\localcache\\local-packages\\python311\\site-packages (from google-ai-generativelanguage<1,>=0.7->langchain-google-genai) (2.28.1)\n",
      "Requirement already satisfied: proto-plus<2.0.0,>=1.22.3 in c:\\users\\vshmk\\appdata\\local\\packages\\pythonsoftwarefoundation.python.3.11_qbz5n2kfra8p0\\localcache\\local-packages\\python311\\site-packages (from google-ai-generativelanguage<1,>=0.7->langchain-google-genai) (1.26.1)\n",
      "Requirement already satisfied: protobuf!=4.21.0,!=4.21.1,!=4.21.2,!=4.21.3,!=4.21.4,!=4.21.5,<7.0.0,>=3.20.2 in c:\\users\\vshmk\\appdata\\local\\packages\\pythonsoftwarefoundation.python.3.11_qbz5n2kfra8p0\\localcache\\local-packages\\python311\\site-packages (from google-ai-generativelanguage<1,>=0.7->langchain-google-genai) (4.25.3)\n",
      "Collecting jsonpatch<2.0.0,>=1.33.0 (from langchain-core<1.0.0,>=0.3.72->langchain)\n",
      "  Downloading jsonpatch-1.33-py2.py3-none-any.whl.metadata (3.0 kB)\n",
      "Requirement already satisfied: typing-extensions<5.0.0,>=4.7.0 in c:\\users\\vshmk\\appdata\\local\\packages\\pythonsoftwarefoundation.python.3.11_qbz5n2kfra8p0\\localcache\\local-packages\\python311\\site-packages (from langchain-core<1.0.0,>=0.3.72->langchain) (4.13.2)\n",
      "Requirement already satisfied: packaging<26.0.0,>=23.2.0 in c:\\users\\vshmk\\appdata\\local\\packages\\pythonsoftwarefoundation.python.3.11_qbz5n2kfra8p0\\localcache\\local-packages\\python311\\site-packages (from langchain-core<1.0.0,>=0.3.72->langchain) (24.2)\n",
      "Requirement already satisfied: httpx<1,>=0.23.0 in c:\\users\\vshmk\\appdata\\local\\packages\\pythonsoftwarefoundation.python.3.11_qbz5n2kfra8p0\\localcache\\local-packages\\python311\\site-packages (from langsmith>=0.1.17->langchain) (0.28.1)\n",
      "Requirement already satisfied: orjson>=3.9.14 in c:\\users\\vshmk\\appdata\\local\\packages\\pythonsoftwarefoundation.python.3.11_qbz5n2kfra8p0\\localcache\\local-packages\\python311\\site-packages (from langsmith>=0.1.17->langchain) (3.10.15)\n",
      "Requirement already satisfied: requests-toolbelt>=1.0.0 in c:\\users\\vshmk\\appdata\\local\\packages\\pythonsoftwarefoundation.python.3.11_qbz5n2kfra8p0\\localcache\\local-packages\\python311\\site-packages (from langsmith>=0.1.17->langchain) (1.0.0)\n",
      "Requirement already satisfied: zstandard>=0.23.0 in c:\\users\\vshmk\\appdata\\local\\packages\\pythonsoftwarefoundation.python.3.11_qbz5n2kfra8p0\\localcache\\local-packages\\python311\\site-packages (from langsmith>=0.1.17->langchain) (0.23.0)\n",
      "Requirement already satisfied: annotated-types>=0.6.0 in c:\\users\\vshmk\\appdata\\local\\packages\\pythonsoftwarefoundation.python.3.11_qbz5n2kfra8p0\\localcache\\local-packages\\python311\\site-packages (from pydantic<3.0.0,>=2.7.4->langchain) (0.7.0)\n",
      "Requirement already satisfied: pydantic-core==2.27.2 in c:\\users\\vshmk\\appdata\\local\\packages\\pythonsoftwarefoundation.python.3.11_qbz5n2kfra8p0\\localcache\\local-packages\\python311\\site-packages (from pydantic<3.0.0,>=2.7.4->langchain) (2.27.2)\n",
      "Requirement already satisfied: python-dotenv>=0.21.0 in c:\\users\\vshmk\\appdata\\local\\packages\\pythonsoftwarefoundation.python.3.11_qbz5n2kfra8p0\\localcache\\local-packages\\python311\\site-packages (from pydantic-settings<3.0.0,>=2.10.1->langchain-community) (1.0.1)\n",
      "Collecting typing-inspection>=0.4.0 (from pydantic-settings<3.0.0,>=2.10.1->langchain-community)\n",
      "  Downloading typing_inspection-0.4.2-py3-none-any.whl.metadata (2.6 kB)\n",
      "Requirement already satisfied: charset_normalizer<4,>=2 in c:\\users\\vshmk\\appdata\\local\\packages\\pythonsoftwarefoundation.python.3.11_qbz5n2kfra8p0\\localcache\\local-packages\\python311\\site-packages (from requests<3,>=2->langchain) (3.3.2)\n",
      "Requirement already satisfied: idna<4,>=2.5 in c:\\users\\vshmk\\appdata\\local\\packages\\pythonsoftwarefoundation.python.3.11_qbz5n2kfra8p0\\localcache\\local-packages\\python311\\site-packages (from requests<3,>=2->langchain) (3.6)\n",
      "Requirement already satisfied: urllib3<3,>=1.21.1 in c:\\users\\vshmk\\appdata\\local\\packages\\pythonsoftwarefoundation.python.3.11_qbz5n2kfra8p0\\localcache\\local-packages\\python311\\site-packages (from requests<3,>=2->langchain) (2.2.1)\n",
      "Requirement already satisfied: certifi>=2017.4.17 in c:\\users\\vshmk\\appdata\\local\\packages\\pythonsoftwarefoundation.python.3.11_qbz5n2kfra8p0\\localcache\\local-packages\\python311\\site-packages (from requests<3,>=2->langchain) (2024.2.2)\n",
      "Requirement already satisfied: greenlet!=0.4.17 in c:\\users\\vshmk\\appdata\\local\\packages\\pythonsoftwarefoundation.python.3.11_qbz5n2kfra8p0\\localcache\\local-packages\\python311\\site-packages (from SQLAlchemy<3,>=1.4->langchain) (3.0.3)\n",
      "Requirement already satisfied: googleapis-common-protos<2.0.dev0,>=1.56.2 in c:\\users\\vshmk\\appdata\\local\\packages\\pythonsoftwarefoundation.python.3.11_qbz5n2kfra8p0\\localcache\\local-packages\\python311\\site-packages (from google-api-core!=2.0.*,!=2.1.*,!=2.10.*,!=2.2.*,!=2.3.*,!=2.4.*,!=2.5.*,!=2.6.*,!=2.7.*,!=2.8.*,!=2.9.*,<3.0.0,>=1.34.1->google-api-core[grpc]!=2.0.*,!=2.1.*,!=2.10.*,!=2.2.*,!=2.3.*,!=2.4.*,!=2.5.*,!=2.6.*,!=2.7.*,!=2.8.*,!=2.9.*,<3.0.0,>=1.34.1->google-ai-generativelanguage<1,>=0.7->langchain-google-genai) (1.62.0)\n",
      "Requirement already satisfied: grpcio<2.0dev,>=1.33.2 in c:\\users\\vshmk\\appdata\\local\\packages\\pythonsoftwarefoundation.python.3.11_qbz5n2kfra8p0\\localcache\\local-packages\\python311\\site-packages (from google-api-core[grpc]!=2.0.*,!=2.1.*,!=2.10.*,!=2.2.*,!=2.3.*,!=2.4.*,!=2.5.*,!=2.6.*,!=2.7.*,!=2.8.*,!=2.9.*,<3.0.0,>=1.34.1->google-ai-generativelanguage<1,>=0.7->langchain-google-genai) (1.76.0rc1)\n",
      "Requirement already satisfied: grpcio-status<2.0.dev0,>=1.33.2 in c:\\users\\vshmk\\appdata\\local\\packages\\pythonsoftwarefoundation.python.3.11_qbz5n2kfra8p0\\localcache\\local-packages\\python311\\site-packages (from google-api-core[grpc]!=2.0.*,!=2.1.*,!=2.10.*,!=2.2.*,!=2.3.*,!=2.4.*,!=2.5.*,!=2.6.*,!=2.7.*,!=2.8.*,!=2.9.*,<3.0.0,>=1.34.1->google-ai-generativelanguage<1,>=0.7->langchain-google-genai) (1.63.0rc1)\n",
      "Requirement already satisfied: cachetools<6.0,>=2.0.0 in c:\\users\\vshmk\\appdata\\local\\packages\\pythonsoftwarefoundation.python.3.11_qbz5n2kfra8p0\\localcache\\local-packages\\python311\\site-packages (from google-auth!=2.24.0,!=2.25.0,<3.0.0,>=2.14.1->google-ai-generativelanguage<1,>=0.7->langchain-google-genai) (5.3.2)\n",
      "Requirement already satisfied: pyasn1-modules>=0.2.1 in c:\\users\\vshmk\\appdata\\local\\packages\\pythonsoftwarefoundation.python.3.11_qbz5n2kfra8p0\\localcache\\local-packages\\python311\\site-packages (from google-auth!=2.24.0,!=2.25.0,<3.0.0,>=2.14.1->google-ai-generativelanguage<1,>=0.7->langchain-google-genai) (0.3.0)\n",
      "Requirement already satisfied: rsa<5,>=3.1.4 in c:\\users\\vshmk\\appdata\\local\\packages\\pythonsoftwarefoundation.python.3.11_qbz5n2kfra8p0\\localcache\\local-packages\\python311\\site-packages (from google-auth!=2.24.0,!=2.25.0,<3.0.0,>=2.14.1->google-ai-generativelanguage<1,>=0.7->langchain-google-genai) (4.9)\n",
      "Requirement already satisfied: anyio in c:\\users\\vshmk\\appdata\\local\\packages\\pythonsoftwarefoundation.python.3.11_qbz5n2kfra8p0\\localcache\\local-packages\\python311\\site-packages (from httpx<1,>=0.23.0->langsmith>=0.1.17->langchain) (4.8.0)\n",
      "Requirement already satisfied: httpcore==1.* in c:\\users\\vshmk\\appdata\\local\\packages\\pythonsoftwarefoundation.python.3.11_qbz5n2kfra8p0\\localcache\\local-packages\\python311\\site-packages (from httpx<1,>=0.23.0->langsmith>=0.1.17->langchain) (1.0.7)\n",
      "Requirement already satisfied: h11<0.15,>=0.13 in c:\\users\\vshmk\\appdata\\local\\packages\\pythonsoftwarefoundation.python.3.11_qbz5n2kfra8p0\\localcache\\local-packages\\python311\\site-packages (from httpcore==1.*->httpx<1,>=0.23.0->langsmith>=0.1.17->langchain) (0.14.0)\n",
      "Requirement already satisfied: jsonpointer>=1.9 in c:\\users\\vshmk\\appdata\\local\\packages\\pythonsoftwarefoundation.python.3.11_qbz5n2kfra8p0\\localcache\\local-packages\\python311\\site-packages (from jsonpatch<2.0.0,>=1.33.0->langchain-core<1.0.0,>=0.3.72->langchain) (3.0.0)\n",
      "Requirement already satisfied: mypy-extensions>=0.3.0 in c:\\users\\vshmk\\appdata\\local\\packages\\pythonsoftwarefoundation.python.3.11_qbz5n2kfra8p0\\localcache\\local-packages\\python311\\site-packages (from typing-inspect<1,>=0.4.0->dataclasses-json<0.7.0,>=0.6.7->langchain-community) (1.0.0)\n",
      "Requirement already satisfied: pyasn1<0.6.0,>=0.4.6 in c:\\users\\vshmk\\appdata\\local\\packages\\pythonsoftwarefoundation.python.3.11_qbz5n2kfra8p0\\localcache\\local-packages\\python311\\site-packages (from pyasn1-modules>=0.2.1->google-auth!=2.24.0,!=2.25.0,<3.0.0,>=2.14.1->google-ai-generativelanguage<1,>=0.7->langchain-google-genai) (0.5.1)\n",
      "Requirement already satisfied: sniffio>=1.1 in c:\\users\\vshmk\\appdata\\local\\packages\\pythonsoftwarefoundation.python.3.11_qbz5n2kfra8p0\\localcache\\local-packages\\python311\\site-packages (from anyio->httpx<1,>=0.23.0->langsmith>=0.1.17->langchain) (1.3.1)\n",
      "Downloading langchain-0.3.27-py3-none-any.whl (1.0 MB)\n",
      "   ---------------------------------------- 0.0/1.0 MB ? eta -:--:--\n",
      "   ---------------------------------------- 1.0/1.0 MB 4.8 MB/s eta 0:00:00\n",
      "Downloading langchain_google_genai-2.1.12-py3-none-any.whl (50 kB)\n",
      "Downloading langchain_community-0.3.31-py3-none-any.whl (2.5 MB)\n",
      "   ---------------------------------------- 0.0/2.5 MB ? eta -:--:--\n",
      "   ------------ --------------------------- 0.8/2.5 MB 4.8 MB/s eta 0:00:01\n",
      "   ---------------- ----------------------- 1.0/2.5 MB 2.8 MB/s eta 0:00:01\n",
      "   ------------------------------------- -- 2.4/2.5 MB 3.7 MB/s eta 0:00:01\n",
      "   ---------------------------------------- 2.5/2.5 MB 3.5 MB/s eta 0:00:00\n",
      "Downloading duckduckgo_search-8.1.1-py3-none-any.whl (18 kB)\n",
      "Downloading click-8.3.0-py3-none-any.whl (107 kB)\n",
      "Downloading dataclasses_json-0.6.7-py3-none-any.whl (28 kB)\n",
      "Downloading filetype-1.2.0-py2.py3-none-any.whl (19 kB)\n",
      "Downloading google_ai_generativelanguage-0.7.0-py3-none-any.whl (1.4 MB)\n",
      "   ---------------------------------------- 0.0/1.4 MB ? eta -:--:--\n",
      "   ------------------------------ --------- 1.0/1.4 MB 3.6 MB/s eta 0:00:01\n",
      "   ---------------------------------------- 1.4/1.4 MB 2.7 MB/s eta 0:00:00\n",
      "Downloading httpx_sse-0.4.3-py3-none-any.whl (9.0 kB)\n",
      "Downloading langchain_core-0.3.79-py3-none-any.whl (449 kB)\n",
      "Downloading langchain_text_splitters-0.3.11-py3-none-any.whl (33 kB)\n",
      "Downloading langsmith-0.4.34-py3-none-any.whl (386 kB)\n",
      "Downloading primp-0.15.0-cp38-abi3-win_amd64.whl (3.1 MB)\n",
      "   ---------------------------------------- 0.0/3.1 MB ? eta -:--:--\n",
      "   --------- ------------------------------ 0.8/3.1 MB 3.7 MB/s eta 0:00:01\n",
      "   ------------------- -------------------- 1.6/3.1 MB 3.8 MB/s eta 0:00:01\n",
      "   ----------------------------- ---------- 2.4/3.1 MB 3.6 MB/s eta 0:00:01\n",
      "   ---------------------------------------- 3.1/3.1 MB 3.6 MB/s eta 0:00:00\n",
      "Downloading pydantic_settings-2.11.0-py3-none-any.whl (48 kB)\n",
      "Downloading requests-2.32.5-py3-none-any.whl (64 kB)\n",
      "Downloading jsonpatch-1.33-py2.py3-none-any.whl (12 kB)\n",
      "Downloading marshmallow-3.26.1-py3-none-any.whl (50 kB)\n",
      "Downloading typing_inspect-0.9.0-py3-none-any.whl (8.8 kB)\n",
      "Downloading typing_inspection-0.4.2-py3-none-any.whl (14 kB)\n",
      "Installing collected packages: filetype, typing-inspection, typing-inspect, requests, primp, marshmallow, jsonpatch, httpx-sse, click, duckduckgo-search, dataclasses-json, pydantic-settings, langsmith, langchain-core, langchain-text-splitters, google-ai-generativelanguage, langchain-google-genai, langchain, langchain-community\n",
      "  Attempting uninstall: requests\n",
      "    Found existing installation: requests 2.31.0\n",
      "    Uninstalling requests-2.31.0:\n",
      "      Successfully uninstalled requests-2.31.0\n",
      "  Attempting uninstall: click\n",
      "    Found existing installation: click 8.1.7\n",
      "    Uninstalling click-8.1.7:\n",
      "      Successfully uninstalled click-8.1.7\n",
      "  Attempting uninstall: google-ai-generativelanguage\n",
      "    Found existing installation: google-ai-generativelanguage 0.6.15\n",
      "    Uninstalling google-ai-generativelanguage-0.6.15:\n",
      "      Successfully uninstalled google-ai-generativelanguage-0.6.15\n",
      "Successfully installed click-8.3.0 dataclasses-json-0.6.7 duckduckgo-search-8.1.1 filetype-1.2.0 google-ai-generativelanguage-0.7.0 httpx-sse-0.4.3 jsonpatch-1.33 langchain-0.3.27 langchain-community-0.3.31 langchain-core-0.3.79 langchain-google-genai-2.1.12 langchain-text-splitters-0.3.11 langsmith-0.4.34 marshmallow-3.26.1 primp-0.15.0 pydantic-settings-2.11.0 requests-2.32.5 typing-inspect-0.9.0 typing-inspection-0.4.2\n"
     ]
    },
    {
     "name": "stderr",
     "output_type": "stream",
     "text": [
      "ERROR: pip's dependency resolver does not currently take into account all the packages that are installed. This behaviour is the source of the following dependency conflicts.\n",
      "google-generativeai 0.8.5 requires google-ai-generativelanguage==0.6.15, but you have google-ai-generativelanguage 0.7.0 which is incompatible.\n",
      "poetry-plugin-shell 1.0.1 requires poetry<3.0,>=2.0, but you have poetry 1.8.3 which is incompatible.\n",
      "\n",
      "[notice] A new release of pip is available: 25.0 -> 25.2\n",
      "[notice] To update, run: C:\\Users\\vshmk\\AppData\\Local\\Microsoft\\WindowsApps\\PythonSoftwareFoundation.Python.3.11_qbz5n2kfra8p0\\python.exe -m pip install --upgrade pip\n"
     ]
    }
   ],
   "source": [
    "!pip install langchain langchain-google-genai langchain-community duckduckgo-search"
   ]
  },
  {
   "cell_type": "code",
   "execution_count": 45,
   "id": "b6464d35-b0cf-4c6d-b487-69257592af55",
   "metadata": {},
   "outputs": [],
   "source": [
    "import os\n",
    "from langchain_google_genai import ChatGoogleGenerativeAI\n",
    "from langchain.agents import AgentExecutor, create_tool_calling_agent\n",
    "from langchain_community.tools import DuckDuckGoSearchRun\n",
    "from langchain.prompts import ChatPromptTemplate\n",
    "\n",
    "# Configure API key\n",
    "os.environ[\"GOOGLE_API_KEY\"] = os.environ.get(\"GOOGLE_API_KEY\", \"\")\n",
    "\n",
    "def normalize_drug_name(drug_name):\n",
    "    \"\"\"\n",
    "    Normalize drug name using Gemini thinking model with web search via LangChain\n",
    "    \"\"\"\n",
    "    try:\n",
    "        # Initialize the Gemini thinking model\n",
    "        llm = ChatGoogleGenerativeAI(\n",
    "            model=\"gemini-2.0-flash-exp\",\n",
    "            temperature=0\n",
    "        )\n",
    "        \n",
    "        # Initialize search tool\n",
    "        search = DuckDuckGoSearchRun()\n",
    "        tools = [search]\n",
    "        \n",
    "        # Create prompt template\n",
    "        prompt = ChatPromptTemplate.from_messages([\n",
    "            (\"system\", \"\"\"You are a drug database expert. Your task is to normalize drug names \n",
    "            to DRKG-compatible identifiers. Use the search tool to find the correct DrugBank ID \n",
    "            or CHEMBL ID for the given drug name. \n",
    "            \n",
    "            Prefer DrugBank IDs (format: DB##### where # is a digit).\n",
    "            If DrugBank ID is not available, use CHEMBL ID.\n",
    "            \n",
    "            Output ONLY the identifier in the format: 'Compound::DBxxxx' or 'Compound::CHEMBLxxxx'\n",
    "            No explanations, no extra text.\"\"\"),\n",
    "            (\"human\", \"Normalize this drug name: {drug_name}\"),\n",
    "            (\"placeholder\", \"{agent_scratchpad}\")\n",
    "        ])\n",
    "        \n",
    "        # Create agent\n",
    "        agent = create_tool_calling_agent(llm, tools, prompt)\n",
    "        agent_executor = AgentExecutor(\n",
    "            agent=agent,\n",
    "            tools=tools,\n",
    "            verbose=True,\n",
    "            max_iterations=3\n",
    "        )\n",
    "        \n",
    "        # Execute\n",
    "        result = agent_executor.invoke({\"drug_name\": drug_name})\n",
    "        normalized_id = result[\"output\"].strip()\n",
    "        \n",
    "        return normalized_id if normalized_id else None\n",
    "        \n",
    "    except Exception as e:\n",
    "        print(f\"Error normalizing '{drug_name}': {e}\")\n",
    "        return None"
   ]
  },
  {
   "cell_type": "code",
   "execution_count": 46,
   "id": "31e84458-17b7-4137-9525-005e491ac011",
   "metadata": {},
   "outputs": [
    {
     "data": {
      "text/plain": [
       "['Compound::DB01192',\n",
       " 'Compound::DB00316',\n",
       " 'Compound::DB00855',\n",
       " 'Compound::DB06813']"
      ]
     },
     "execution_count": 46,
     "metadata": {},
     "output_type": "execute_result"
    }
   ],
   "source": [
    "normalized_drugs = [normalize_drug(drug.split(\" \")[0]) for drug in get_medicines_from_string(medicines[2])]\n",
    "normalized_drugs"
   ]
  },
  {
   "cell_type": "code",
   "execution_count": 35,
   "id": "5baa2079-1865-40e5-955b-047cb06a3eed",
   "metadata": {},
   "outputs": [
    {
     "data": {
      "text/plain": [
       "'CEPODEM XP 325MG TAB, DOLO TAB 650MG, MONTAIR FX TAB, BETADINE GARGLE'"
      ]
     },
     "execution_count": 35,
     "metadata": {},
     "output_type": "execute_result"
    }
   ],
   "source": [
    "medicines[2]"
   ]
  },
  {
   "cell_type": "code",
   "execution_count": 18,
   "id": "8cbd7c51-4258-4e5b-899d-6f5659f65d46",
   "metadata": {},
   "outputs": [
    {
     "name": "stdout",
     "output_type": "stream",
     "text": [
      "Collecting neo4j\n",
      "  Downloading neo4j-6.0.2-py3-none-any.whl.metadata (5.2 kB)\n",
      "Requirement already satisfied: pytz in c:\\users\\vshmk\\appdata\\local\\packages\\pythonsoftwarefoundation.python.3.11_qbz5n2kfra8p0\\localcache\\local-packages\\python311\\site-packages (from neo4j) (2024.1)\n",
      "Downloading neo4j-6.0.2-py3-none-any.whl (325 kB)\n",
      "Installing collected packages: neo4j\n",
      "Successfully installed neo4j-6.0.2\n"
     ]
    },
    {
     "name": "stderr",
     "output_type": "stream",
     "text": [
      "\n",
      "[notice] A new release of pip is available: 25.0 -> 25.2\n",
      "[notice] To update, run: C:\\Users\\vshmk\\AppData\\Local\\Microsoft\\WindowsApps\\PythonSoftwareFoundation.Python.3.11_qbz5n2kfra8p0\\python.exe -m pip install --upgrade pip\n"
     ]
    }
   ],
   "source": [
    "!pip install neo4j"
   ]
  },
  {
   "cell_type": "code",
   "execution_count": 31,
   "id": "deb19752-0679-4a76-83c4-9d43014775be",
   "metadata": {},
   "outputs": [],
   "source": [
    "from neo4j import GraphDatabase\n",
    "from collections import defaultdict\n",
    "\n",
    "# ---------- CONFIG ----------\n",
    "NEO4J_URI = \"bolt://localhost:7687\"\n",
    "NEO4J_USER = \"neo4j\"\n",
    "NEO4J_PASSWORD = \"12345678\"  # replace with your password\n",
    "MAX_NEIGHBORS = 200\n",
    "\n",
    "# Relation patterns\n",
    "DDI_REL = \"DRUGBANK::ddi-interactor-in::Compound:Compound\"\n",
    "SE_SIDE_REL_PATTERNS = [\n",
    "    \"Hetionet::CcSE::Compound:Side Effect\",\n",
    "    \"GNBR::Sa::Compound:Disease\",\n",
    "]\n",
    "\n",
    "# ---------- FUNCTION TO QUERY NEO4J ----------\n",
    "def query_drug_interactions_neo4j(drug_nodes, max_neighbors=200):\n",
    "    \"\"\"\n",
    "    Input: list of normalized DRKG node IDs (Compound::CHEMBLxxxx)\n",
    "    Output: dictionary {drug_node: list of textual interaction/side-effect facts}\n",
    "    \"\"\"\n",
    "    driver = GraphDatabase.driver(NEO4J_URI, auth=(NEO4J_USER, NEO4J_PASSWORD))\n",
    "    results = {}\n",
    "\n",
    "    with driver.session() as session:\n",
    "        for seed in drug_nodes:\n",
    "            try:\n",
    "                print(f\"\\nQuerying 1-hop neighbors for: {seed} ...\")\n",
    "                # 1-hop neighbors\n",
    "                query = \"\"\"\n",
    "                MATCH (seed {Entity: $seed})-[r]-(neighbor)\n",
    "                RETURN seed.Entity AS seed, r.Relationship AS relation, neighbor.Entity AS neighbor\n",
    "                LIMIT $max_neighbors\n",
    "                \"\"\"\n",
    "                records = session.run(query, seed=seed, max_neighbors=max_neighbors)\n",
    "                \n",
    "                chunks = []\n",
    "                neighbors = set()\n",
    "                found = False\n",
    "                for rec in records:\n",
    "                    found = True\n",
    "                    relation = rec[\"relation\"]\n",
    "                    neighbor = rec[\"neighbor\"]\n",
    "                    neighbors.add(neighbor)\n",
    "                    chunks.append(f\"{seed} -- {relation} --> {neighbor}\")\n",
    "                \n",
    "                if not found:\n",
    "                    print(f\"WARNING: No neighbors found for {seed} in the database.\")\n",
    "                    results[seed] = []\n",
    "                    continue\n",
    "\n",
    "                # DDIs and Side-Effects for neighbors\n",
    "                for n in neighbors:\n",
    "                    # DDIs\n",
    "                    try:\n",
    "                        ddi_query = \"\"\"\n",
    "                        MATCH (n {Entity: $n})-[r]-(partner)\n",
    "                        WHERE r.Relationship = $ddi_rel\n",
    "                        RETURN n.Entity AS neighbor, r.Relationship AS relation, partner.Entity AS partner\n",
    "                        \"\"\"\n",
    "                        ddi_records = session.run(ddi_query, n=n, ddi_rel=DDI_REL)\n",
    "                        for rec in ddi_records:\n",
    "                            chunks.append(f\"{rec['neighbor']} -- {rec['relation']} --> {rec['partner']}\")\n",
    "                    except Exception as e:\n",
    "                        print(f\"Error querying DDIs for {n}: {e}\")\n",
    "\n",
    "                    # Side-effects\n",
    "                    try:\n",
    "                        se_query = f\"\"\"\n",
    "                        MATCH (n {{Entity: $n}})-[r]-(se)\n",
    "                        WHERE {' OR '.join([f\"r.Relationship=$pat{i}\" for i in range(len(SE_SIDE_REL_PATTERNS))])}\n",
    "                        RETURN n.Entity AS neighbor, r.Relationship AS relation, se.Entity AS se_entity\n",
    "                        \"\"\"\n",
    "                        se_params = {\"n\": n}\n",
    "                        for i, pat in enumerate(SE_SIDE_REL_PATTERNS):\n",
    "                            se_params[f\"pat{i}\"] = pat\n",
    "                        se_records = session.run(se_query, **se_params)\n",
    "                        for rec in se_records:\n",
    "                            chunks.append(f\"{rec['neighbor']} -- {rec['relation']} --> {rec['se_entity']}\")\n",
    "                    except Exception as e:\n",
    "                        print(f\"Error querying side-effects for {n}: {e}\")\n",
    "\n",
    "                results[seed] = list(dict.fromkeys(chunks))  # deduplicate\n",
    "                print(f\"Found {len(results[seed])} facts for {seed}.\")\n",
    "\n",
    "            except Exception as e:\n",
    "                print(f\"ERROR: Failed to query {seed}: {e}\")\n",
    "                results[seed] = []\n",
    "\n",
    "    driver.close()\n",
    "    return results"
   ]
  },
  {
   "cell_type": "code",
   "execution_count": 32,
   "id": "9b324042-5e3b-42be-8b84-81fa3466f0a6",
   "metadata": {},
   "outputs": [
    {
     "name": "stdout",
     "output_type": "stream",
     "text": [
      "Error normalizing 'MONTAIR LC SYP': 429 You exceeded your current quota, please check your plan and billing details. For more information on this error, head to: https://ai.google.dev/gemini-api/docs/rate-limits.\n",
      "* Quota exceeded for metric: generativelanguage.googleapis.com/generate_content_free_tier_requests, limit: 10\n",
      "Please retry in 22.417838719s. [violations {\n",
      "}\n",
      ", links {\n",
      "  description: \"Learn more about Gemini API quotas\"\n",
      "  url: \"https://ai.google.dev/gemini-api/docs/rate-limits\"\n",
      "}\n",
      ", retry_delay {\n",
      "  seconds: 22\n",
      "}\n",
      "]\n",
      "Error normalizing 'LEVOSALBUTAMOL NEB': 429 You exceeded your current quota, please check your plan and billing details. For more information on this error, head to: https://ai.google.dev/gemini-api/docs/rate-limits.\n",
      "* Quota exceeded for metric: generativelanguage.googleapis.com/generate_content_free_tier_requests, limit: 10\n",
      "Please retry in 21.815370945s. [violations {\n",
      "}\n",
      ", links {\n",
      "  description: \"Learn more about Gemini API quotas\"\n",
      "  url: \"https://ai.google.dev/gemini-api/docs/rate-limits\"\n",
      "}\n",
      ", retry_delay {\n",
      "  seconds: 21\n",
      "}\n",
      "]\n"
     ]
    },
    {
     "data": {
      "text/plain": [
       "['Compound::DB00341',\n",
       " 'Compound::DB13788',\n",
       " 'Compound::DB00020',\n",
       " 'Compound::DB14032',\n",
       " 'Compound::DB15912',\n",
       " 'Compound::DB11644',\n",
       " 'Compound::DB14728',\n",
       " None,\n",
       " None]"
      ]
     },
     "execution_count": 32,
     "metadata": {},
     "output_type": "execute_result"
    }
   ],
   "source": [
    "normalized_drugs = [normalize_drug(drug) for drug in get_medicines_from_string(medicines[3])]\n",
    "normalized_drugs"
   ]
  },
  {
   "cell_type": "code",
   "execution_count": 47,
   "id": "1b1d1b91-5a23-4d02-8128-213b67bedb34",
   "metadata": {},
   "outputs": [
    {
     "name": "stdout",
     "output_type": "stream",
     "text": [
      "\n",
      "Querying 1-hop neighbors for: Compound::DB01192 ...\n",
      "Found 219916 facts for Compound::DB01192.\n",
      "\n",
      "Querying 1-hop neighbors for: Compound::DB00316 ...\n",
      "Found 184792 facts for Compound::DB00316.\n",
      "\n",
      "Querying 1-hop neighbors for: Compound::DB00855 ...\n",
      "Found 26722 facts for Compound::DB00855.\n",
      "\n",
      "Querying 1-hop neighbors for: Compound::DB06813 ...\n",
      "Found 231869 facts for Compound::DB06813.\n",
      "\n",
      "=== Drug: Compound::DB01192 ===\n",
      "Found 219916 interaction/side-effect facts\n",
      "- Compound::DB01192 -- Hetionet::CbG::Compound:Gene --> Gene::4988\n",
      "- Compound::DB01192 -- Hetionet::CbG::Compound:Gene --> Gene::1565\n",
      "- Compound::DB01192 -- Hetionet::CbG::Compound:Gene --> Gene::1576\n",
      "- Compound::DB01192 -- Hetionet::CbG::Compound:Gene --> Gene::4985\n",
      "- Compound::DB01192 -- Hetionet::CbG::Compound:Gene --> Gene::4986\n",
      "- Compound::DB01192 -- DRUGBANK::ddi-interactor-in::Compound:Compound --> Compound::DB01392\n",
      "- Compound::DB01192 -- DRUGBANK::ddi-interactor-in::Compound:Compound --> Compound::DB12070\n",
      "- Compound::DB01192 -- DRUGBANK::ddi-interactor-in::Compound:Compound --> Compound::DB07715\n",
      "- Compound::DB01192 -- DRUGBANK::ddi-interactor-in::Compound:Compound --> Compound::DB13014\n",
      "- Compound::DB01192 -- DRUGBANK::ddi-interactor-in::Compound:Compound --> Compound::DB11994\n",
      "\n",
      "=== Drug: Compound::DB00316 ===\n",
      "Found 184792 interaction/side-effect facts\n",
      "- Compound::DB00316 -- GNBR::E::Compound:Gene --> Gene::7157\n",
      "- Compound::DB00316 -- GNBR::K::Compound:Gene --> Gene::6622\n",
      "- Compound::DB00316 -- Hetionet::CbG::Compound:Gene --> Gene::1571\n",
      "- Compound::DB00316 -- Hetionet::CbG::Compound:Gene --> Gene::1548\n",
      "- Compound::DB00316 -- Hetionet::CbG::Compound:Gene --> Gene::1559\n",
      "- Compound::DB00316 -- Hetionet::CbG::Compound:Gene --> Gene::1544\n",
      "- Compound::DB00316 -- Hetionet::CbG::Compound:Gene --> Gene::1565\n",
      "- Compound::DB00316 -- Hetionet::CbG::Compound:Gene --> Gene::1576\n",
      "- Compound::DB00316 -- GNBR::N::Compound:Gene --> Gene::4513\n",
      "- Compound::DB00316 -- Hetionet::CuG::Compound:Gene --> Gene::23530\n",
      "\n",
      "=== Drug: Compound::DB00855 ===\n",
      "Found 26722 interaction/side-effect facts\n",
      "- Compound::DB00855 -- Hetionet::CdG::Compound:Gene --> Gene::7157\n",
      "- Compound::DB00855 -- Hetionet::CuG::Compound:Gene --> Gene::3162\n",
      "- Compound::DB00855 -- GNBR::Z::Compound:Gene --> Gene::211\n",
      "- Compound::DB00855 -- Hetionet::CuG::Compound:Gene --> Gene::4792\n",
      "- Compound::DB00855 -- Hetionet::CbG::Compound:Gene --> Gene::210\n",
      "- Compound::DB00855 -- Hetionet::CdG::Compound:Gene --> Gene::3486\n",
      "- Compound::DB00855 -- Hetionet::CdG::Compound:Gene --> Gene::7296\n",
      "- Compound::DB00855 -- GNBR::Z::Compound:Gene --> Gene::212\n",
      "- Compound::DB00855 -- GNBR::E::Compound:Gene --> Gene::2235\n",
      "- Compound::DB00855 -- Hetionet::CbG::Compound:Gene --> Gene::6564\n",
      "\n",
      "=== Drug: Compound::DB06813 ===\n",
      "Found 231869 interaction/side-effect facts\n",
      "- Compound::DB06813 -- Hetionet::CbG::Compound:Gene --> Gene::2356\n",
      "- Compound::DB06813 -- Hetionet::CbG::Compound:Gene --> Gene::7298\n",
      "- Compound::DB06813 -- Hetionet::CbG::Compound:Gene --> Gene::1719\n",
      "- Compound::DB06813 -- Hetionet::CbG::Compound:Gene --> Gene::6573\n",
      "- Compound::DB06813 -- DRUGBANK::ddi-interactor-in::Compound:Compound --> Compound::DB12996\n",
      "- Compound::DB06813 -- DRUGBANK::ddi-interactor-in::Compound:Compound --> Compound::DB09299\n",
      "- Compound::DB06813 -- DRUGBANK::ddi-interactor-in::Compound:Compound --> Compound::DB14126\n",
      "- Compound::DB06813 -- DRUGBANK::ddi-interactor-in::Compound:Compound --> Compound::DB13014\n",
      "- Compound::DB06813 -- DRUGBANK::ddi-interactor-in::Compound:Compound --> Compound::DB08934\n",
      "- Compound::DB06813 -- DRUGBANK::ddi-interactor-in::Compound:Compound --> Compound::DB13868\n"
     ]
    }
   ],
   "source": [
    "interaction_results = query_drug_interactions_neo4j(normalized_drugs)\n",
    "\n",
    "for drug, facts in interaction_results.items():\n",
    "    print(f\"\\n=== Drug: {drug} ===\")\n",
    "    print(f\"Found {len(facts)} interaction/side-effect facts\")\n",
    "    for f in facts[:10]:  # print first 10 for brevity\n",
    "        print(\"-\", f)"
   ]
  },
  {
   "cell_type": "code",
   "execution_count": null,
   "id": "fbaace85-4063-4d4d-99d9-2a66119a9170",
   "metadata": {},
   "outputs": [],
   "source": []
  }
 ],
 "metadata": {
  "kernelspec": {
   "display_name": "Python 3 (ipykernel)",
   "language": "python",
   "name": "python3"
  },
  "language_info": {
   "codemirror_mode": {
    "name": "ipython",
    "version": 3
   },
   "file_extension": ".py",
   "mimetype": "text/x-python",
   "name": "python",
   "nbconvert_exporter": "python",
   "pygments_lexer": "ipython3",
   "version": "3.11.9"
  }
 },
 "nbformat": 4,
 "nbformat_minor": 5
}
